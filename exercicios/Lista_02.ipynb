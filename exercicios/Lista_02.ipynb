{
  "nbformat": 4,
  "nbformat_minor": 0,
  "metadata": {
    "kernelspec": {
      "display_name": "Python 3",
      "language": "python",
      "name": "python3"
    },
    "language_info": {
      "codemirror_mode": {
        "name": "ipython",
        "version": 3
      },
      "file_extension": ".py",
      "mimetype": "text/x-python",
      "name": "python",
      "nbconvert_exporter": "python",
      "pygments_lexer": "ipython3",
      "version": "3.7.1"
    },
    "colab": {
      "name": "Lista_02.ipynb",
      "provenance": [],
      "include_colab_link": true
    }
  },
  "cells": [
    {
      "cell_type": "markdown",
      "metadata": {
        "id": "view-in-github",
        "colab_type": "text"
      },
      "source": [
        "<a href=\"https://colab.research.google.com/github/marcelokleber/ic-aulas/blob/master/exercicios/Lista_02.ipynb\" target=\"_parent\"><img src=\"https://colab.research.google.com/assets/colab-badge.svg\" alt=\"Open In Colab\"/></a>"
      ]
    },
    {
      "cell_type": "markdown",
      "metadata": {
        "id": "lTYTDSdk7CJx",
        "colab_type": "text"
      },
      "source": [
        "# Lista de Exercícios\n",
        "Estruturas condicionais (`if-else-elif`)\n",
        "\n",
        "## Questao 1:\n",
        "Faça um Programa que peça dois números e imprima o maior deles"
      ]
    },
    {
      "cell_type": "code",
      "metadata": {
        "id": "RocJcdZf7CJz",
        "colab_type": "code",
        "colab": {}
      },
      "source": [
        ""
      ],
      "execution_count": null,
      "outputs": []
    },
    {
      "cell_type": "markdown",
      "metadata": {
        "id": "XZvrTFUR7CJ4",
        "colab_type": "text"
      },
      "source": [
        "## Questao 2\n",
        "Faça um Programa que peça um valor e mostre na tela se o valor é positivo ou negativo"
      ]
    },
    {
      "cell_type": "code",
      "metadata": {
        "id": "Q9fO4yGk7CJ5",
        "colab_type": "code",
        "colab": {}
      },
      "source": [
        ""
      ],
      "execution_count": null,
      "outputs": []
    },
    {
      "cell_type": "markdown",
      "metadata": {
        "id": "KDO98eQ77CJ_",
        "colab_type": "text"
      },
      "source": [
        "## Questao 3\n",
        "Faça um Programa que verifique se uma letra digitada é \"F\" ou \"M\". Conforme a letra escrever: \n",
        "- \"F\" - Feminino, \n",
        "- \"M\" - Masculino, \n",
        "- Caso contrário, 'Sexo Inválido'."
      ]
    },
    {
      "cell_type": "code",
      "metadata": {
        "id": "0sJB02SF7CKB",
        "colab_type": "code",
        "colab": {}
      },
      "source": [
        "a = str(input(\"Digite uma letra: \"))\n",
        "m = \"Masculino\"\n",
        "f = \"Feminino\"\n",
        "\n",
        "if a == \"M\" :\n",
        "     print(\"Masculino\")\n",
        "elif a == \"F\" :\n",
        "     print(\"Feminino\")\n",
        "else:\n",
        "    print(\"Sexo invalido\")\n"
      ],
      "execution_count": null,
      "outputs": []
    },
    {
      "cell_type": "markdown",
      "metadata": {
        "id": "hvn3VkCi7CKG",
        "colab_type": "text"
      },
      "source": [
        "## Questao 4\n",
        "Faça um Programa que peça para entrar com um ano com 4 dígitos e determine se o mesmo é ou não bissexto."
      ]
    },
    {
      "cell_type": "code",
      "metadata": {
        "id": "hLtvhREy7CKH",
        "colab_type": "code",
        "colab": {}
      },
      "source": [
        ""
      ],
      "execution_count": null,
      "outputs": []
    },
    {
      "cell_type": "markdown",
      "metadata": {
        "id": "tOXVBjlU7CKK",
        "colab_type": "text"
      },
      "source": [
        "## Questao 5\n",
        "Faça um Programa que verifique se uma letra digitada é vogal ou consoante"
      ]
    },
    {
      "cell_type": "code",
      "metadata": {
        "id": "Zev__2qb7CKL",
        "colab_type": "code",
        "colab": {}
      },
      "source": [
        "\n"
      ],
      "execution_count": null,
      "outputs": []
    },
    {
      "cell_type": "markdown",
      "metadata": {
        "id": "Qf7cXIMQ7CKQ",
        "colab_type": "text"
      },
      "source": [
        "## Questao 6\n",
        "Faça um Programa que leia três números e mostre-os em ordem decrescente."
      ]
    },
    {
      "cell_type": "code",
      "metadata": {
        "id": "PQM67_9Q7CKQ",
        "colab_type": "code",
        "colab": {}
      },
      "source": [
        ""
      ],
      "execution_count": null,
      "outputs": []
    },
    {
      "cell_type": "markdown",
      "metadata": {
        "id": "YGH-KZsp7CKY",
        "colab_type": "text"
      },
      "source": [
        "## Questao 7\n",
        "Faça um programa para a leitura de duas notas parciais de um aluno. O programa deve calcular a média alcançada por aluno e apresentar:\n",
        "- A mensagem \"Aprovado\", se a média alcançada for maior ou igual a sete;\n",
        "- A mensagem \"Reprovado\", se a média for menor do que sete;\n",
        "- A mensagem \"Aprovado com Distinção\", se a média for igual a dez."
      ]
    },
    {
      "cell_type": "code",
      "metadata": {
        "id": "D8CdnoVi7CKa",
        "colab_type": "code",
        "colab": {}
      },
      "source": [
        ""
      ],
      "execution_count": null,
      "outputs": []
    },
    {
      "cell_type": "markdown",
      "metadata": {
        "id": "pqMaiLO67CKe",
        "colab_type": "text"
      },
      "source": [
        "## Questao 8\n",
        "Faça um Programa que leia três números e mostre o maior deles."
      ]
    },
    {
      "cell_type": "code",
      "metadata": {
        "id": "QLYKDzkJ7CKf",
        "colab_type": "code",
        "colab": {}
      },
      "source": [
        ""
      ],
      "execution_count": null,
      "outputs": []
    },
    {
      "cell_type": "markdown",
      "metadata": {
        "id": "rbGc0G8q7CKj",
        "colab_type": "text"
      },
      "source": [
        "## Questao 9\n",
        "Faça um Programa que leia três números e mostre o maior e o menor deles."
      ]
    },
    {
      "cell_type": "code",
      "metadata": {
        "id": "Pvvvnw3w7CKk",
        "colab_type": "code",
        "colab": {}
      },
      "source": [
        ""
      ],
      "execution_count": null,
      "outputs": []
    },
    {
      "cell_type": "markdown",
      "metadata": {
        "id": "TXjufyxx7CKp",
        "colab_type": "text"
      },
      "source": [
        "## Questao 10\n",
        "Faça um programa que pergunte o preço de três produtos e informe qual produto você deve comprar, sabendo que a decisão é sempre pelo mais barato"
      ]
    },
    {
      "cell_type": "code",
      "metadata": {
        "id": "hNJEYzQB7CKq",
        "colab_type": "code",
        "colab": {}
      },
      "source": [
        ""
      ],
      "execution_count": null,
      "outputs": []
    },
    {
      "cell_type": "markdown",
      "metadata": {
        "id": "cCuZW7qy7CKv",
        "colab_type": "text"
      },
      "source": [
        "## Questao 11\n",
        "Faça um Programa que pergunte em que turno você estuda. Peça para digitar \n",
        "- M-matutino\n",
        "- V-Vespertino \n",
        "- N- Noturno. \n",
        "\n",
        "Imprima a mensagem \"Bom Dia!\", \"Boa Tarde!\" ou \"Boa Noite!\" ou \"Valor\n",
        "Inválido!\", conforme o caso."
      ]
    },
    {
      "cell_type": "code",
      "metadata": {
        "id": "gnAVCUVg7CKx",
        "colab_type": "code",
        "colab": {
          "base_uri": "https://localhost:8080/",
          "height": 51
        },
        "outputId": "7ee5fadd-215c-462e-b51b-2688171bd154"
      },
      "source": [
        "a = str(input(\"Qual é o seu turno: \"))\n",
        "m = \"M-Matutino\"\n",
        "v = \"V-Vesperino\"\n",
        "n = \"N-Noturno\"\n",
        "\n",
        "if a == \"m\" :\n",
        "  print(m , \"Bom dia\")\n",
        "\n",
        "elif a == \"v\" :\n",
        "  print(v , \"Boa tarde\")\n",
        "\n",
        "elif a == \"n\" :\n",
        "  print(n , \"Boa noite\")\n",
        "\n",
        "else:\n",
        "  print(\"Valor inválido\")"
      ],
      "execution_count": 55,
      "outputs": [
        {
          "output_type": "stream",
          "text": [
            "Qual é o seu turno: m\n",
            "M-Matutino Bom dia\n"
          ],
          "name": "stdout"
        }
      ]
    },
    {
      "cell_type": "markdown",
      "metadata": {
        "id": "6X6DQ8Xs7CK1",
        "colab_type": "text"
      },
      "source": [
        "## Questao 12\n",
        "As Organizações Tabajara resolveram dar um aumento de salário aos seus colaboradores e lhe contraram para desenvolver o programa que calculará os reajustes.\n",
        "\n",
        "Faça um programa que recebe o salário de um colaborador e o reajuste segundo o seguinte critério, baseado no salário atual:\n",
        "\n",
        "- salários até R\\$ 280,00 (incluindo): aumento de 20%\n",
        "- salários de R\\$  280,00 a 700,00 (incluindo) : aumento de 15%\n",
        "- salários de R\\$ 700,00 e 1500,00 (incluindo): aumento de 10%\n",
        "- salários de R\\$ 1500,00 em diante : aumento de 5% \n",
        "\n",
        "Após o aumento ser realizado, informe na tela:\n",
        "- salário antes do reajuste;\n",
        "- percentual de aumento aplicado;\n",
        "- valor do aumento;\n",
        "- novo salário, após o aumento."
      ]
    },
    {
      "cell_type": "code",
      "metadata": {
        "id": "G5JAJPVr7CK2",
        "colab_type": "code",
        "colab": {}
      },
      "source": [
        ""
      ],
      "execution_count": null,
      "outputs": []
    }
  ]
}